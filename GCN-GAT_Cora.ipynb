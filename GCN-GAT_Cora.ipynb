{
 "cells": [
  {
   "cell_type": "markdown",
   "metadata": {},
   "source": [
    "## Cora数据集"
   ]
  },
  {
   "cell_type": "markdown",
   "metadata": {
    "ExecuteTime": {
     "end_time": "2021-05-31T06:37:00.930081Z",
     "start_time": "2021-05-31T06:35:00.363877Z"
    }
   },
   "source": [
    "### 介绍"
   ]
  },
  {
   "cell_type": "markdown",
   "metadata": {},
   "source": [
    "下载地址：[https://linqs-data.soe.ucsc.edu/public/lbc/cora.tgz](https://linqs-data.soe.ucsc.edu/public/lbc/cora.tgz)  \n",
    "\n",
    "Cora数据集由深度学习论文组成，论文被分为以下七类之一:\n",
    "\n",
    "    Case_Based\n",
    "    Genetic_Algorithms\n",
    "    Neural_Networks\n",
    "    Probabilistic_Methods\n",
    "    Reinforcement_Learning\n",
    "    Rule_Learning\n",
    "    Theory\n",
    "\n",
    "数据集组成  \n",
    "\n",
    "    cora.cites  --论文之间的引用情况（边）\n",
    "\n",
    "|行号|被引用论文id|引用论文id|   \n",
    "|---|---|---|\n",
    "|0|35|1033|  \n",
    "|1|35|103482|  \n",
    "|2|35|103515|  \n",
    "\n",
    "    cora.content  --论文内容（节点特征）\n",
    "        节点特征使用筛选后单词的one-hot编码，若某词出现在该论文中，对应位置置1\n",
    "\n",
    "### p.s.\n",
    "每篇论文引用或被至少一篇其他论文引用，不存在孤立节点。"
   ]
  },
  {
   "cell_type": "markdown",
   "metadata": {},
   "source": [
    "### 读取数据集"
   ]
  },
  {
   "cell_type": "code",
   "execution_count": 3,
   "metadata": {
    "ExecuteTime": {
     "end_time": "2021-06-08T14:19:24.320554Z",
     "start_time": "2021-06-08T14:19:23.296827Z"
    }
   },
   "outputs": [],
   "source": [
    "path = \"data/cora/\"\n",
    "cites = path + \"cora.cites\"\n",
    "content = path + \"cora.content\"\n",
    "\n",
    "# 索引字典，转换到从0开始编码\n",
    "index_dict = dict()\n",
    "# 标签字典\n",
    "label_to_index = dict()\n",
    "\n",
    "features = []\n",
    "labels = []\n",
    "edge_index = []\n",
    "\n",
    "with open(content,\"r\") as f:\n",
    "    nodes = f.readlines()\n",
    "    for node in nodes:\n",
    "        node_info = node.split()\n",
    "        index_dict[int(node_info[0])] = len(index_dict)\n",
    "        features.append([int(i) for i in node_info[1:-1]])\n",
    "        \n",
    "        label_str = node_info[-1]\n",
    "        if(label_str not in label_to_index.keys()):\n",
    "            label_to_index[label_str] = len(label_to_index)\n",
    "        labels.append(label_to_index[label_str])\n",
    "\n",
    "with open(cites,\"r\") as f:\n",
    "    edges = f.readlines()\n",
    "    for edge in edges:\n",
    "        start, end = edge.split()\n",
    "        edge_index.append([index_dict[int(start)],index_dict[int(end)]])\n",
    "        edge_index.append([index_dict[int(end)],index_dict[int(start)]])\n",
    "    \n",
    "labels = torch.LongTensor(labels)\n",
    "features = torch.FloatTensor(features)\n",
    "# features = torch.nn.functional.normalize(features, p=1, dim=1)\n",
    "\n",
    "for i in range(2708):\n",
    "    edge_index.append([i,i])\n",
    "\n",
    "edge_index =  torch.LongTensor(edge_index)\n"
   ]
  },
  {
   "cell_type": "markdown",
   "metadata": {
    "ExecuteTime": {
     "end_time": "2021-05-31T12:22:22.923397Z",
     "start_time": "2021-05-31T12:22:22.919355Z"
    }
   },
   "source": [
    "### 两层GCN的网络结构"
   ]
  },
  {
   "cell_type": "code",
   "execution_count": 4,
   "metadata": {
    "ExecuteTime": {
     "end_time": "2021-06-08T14:19:24.741837Z",
     "start_time": "2021-06-08T14:19:24.322974Z"
    }
   },
   "outputs": [],
   "source": [
    "import torch.nn.functional as F\n",
    "from torch_geometric.nn import GCNConv\n",
    "\n",
    "class GCNNet(torch.nn.Module):\n",
    "    def __init__(self, num_feature, num_label):\n",
    "        super(GCNNet,self).__init__()\n",
    "        self.GCN1 = GCNConv(num_feature, 16)\n",
    "        self.GCN2 = GCNConv(16, num_label)  \n",
    "        self.dropout = torch.nn.Dropout(p=0.5)\n",
    "        \n",
    "    def forward(self, data):\n",
    "        x, edge_index = data.x, data.edge_index\n",
    "        \n",
    "        x = self.GCN1(x, edge_index)\n",
    "        x = F.relu(x)\n",
    "        x = self.dropout(x)\n",
    "        x = self.GCN2(x, edge_index)\n",
    "        \n",
    "        return F.log_softmax(x, dim=1)"
   ]
  },
  {
   "cell_type": "markdown",
   "metadata": {},
   "source": [
    "### 两层GAT的网络结构"
   ]
  },
  {
   "cell_type": "code",
   "execution_count": 5,
   "metadata": {
    "ExecuteTime": {
     "end_time": "2021-06-08T14:19:24.749877Z",
     "start_time": "2021-06-08T14:19:24.743889Z"
    }
   },
   "outputs": [],
   "source": [
    "from torch_geometric.nn import GATConv\n",
    "\n",
    "class GATNet(torch.nn.Module):\n",
    "    def __init__(self, num_feature, num_label):\n",
    "        super(GATNet,self).__init__()\n",
    "        self.GAT1 = GATConv(num_feature, 8, heads = 8, concat = True, dropout = 0.6)\n",
    "        self.GAT2 = GATConv(8*8, num_label, dropout = 0.6)  \n",
    "        \n",
    "    def forward(self, data):\n",
    "        x, edge_index = data.x, data.edge_index\n",
    "        \n",
    "        x = self.GAT1(x, edge_index)\n",
    "        x = F.relu(x)\n",
    "        x = self.GAT2(x, edge_index)\n",
    "        \n",
    "        return F.log_softmax(x, dim=1)"
   ]
  },
  {
   "cell_type": "markdown",
   "metadata": {},
   "source": [
    "### GCN+GAT结构"
   ]
  },
  {
   "cell_type": "code",
   "execution_count": 6,
   "metadata": {
    "ExecuteTime": {
     "end_time": "2021-06-08T14:19:24.775113Z",
     "start_time": "2021-06-08T14:19:24.751611Z"
    }
   },
   "outputs": [],
   "source": [
    "class GGNet(torch.nn.Module):\n",
    "    def __init__(self, num_feature, num_label):\n",
    "        super(GGNet,self).__init__()\n",
    "        self.GCN1 = GCNConv(num_feature, 64)\n",
    "#         self.GAT1 = GATConv(256, 8, heads = 8, concat = True, dropout = 0.6)\n",
    "        self.GAT2 = GATConv(8*8, num_label, dropout = 0.6)  \n",
    "        self.dropout = torch.nn.Dropout(p=0.5)\n",
    "        \n",
    "    def forward(self, data):\n",
    "        x, edge_index = data.x, data.edge_index\n",
    "        \n",
    "        x = self.GCN1(x, edge_index)\n",
    "        x = F.relu(x)\n",
    "        x = self.dropout(x)\n",
    "#         x = self.GAT1(x, edge_index)\n",
    "#         x = F.relu(x)\n",
    "        x = self.GAT2(x, edge_index)\n",
    "        \n",
    "        return F.log_softmax(x, dim=1)"
   ]
  },
  {
   "cell_type": "markdown",
   "metadata": {},
   "source": [
    "### 训练过程"
   ]
  },
  {
   "cell_type": "code",
   "execution_count": 7,
   "metadata": {
    "ExecuteTime": {
     "end_time": "2021-06-08T14:19:24.792866Z",
     "start_time": "2021-06-08T14:19:24.777223Z"
    }
   },
   "outputs": [],
   "source": [
    "# 固定种子\n",
    "seed = 1234\n",
    "torch.manual_seed(seed)\n",
    "torch.cuda.manual_seed(seed)\n",
    "torch.cuda.manual_seed_all(seed)  \n",
    "# np.random.seed(seed)  # Numpy module.\n",
    "# random.seed(seed)  # Python random module.\n",
    "torch.manual_seed(seed)\n",
    "torch.backends.cudnn.benchmark = False\n",
    "torch.backends.cudnn.deterministic = True"
   ]
  },
  {
   "cell_type": "code",
   "execution_count": 8,
   "metadata": {
    "ExecuteTime": {
     "end_time": "2021-06-08T14:19:24.816547Z",
     "start_time": "2021-06-08T14:19:24.797458Z"
    }
   },
   "outputs": [
    {
     "data": {
      "text/plain": [
       "Data(edge_index=[2, 13566], x=[2708, 1433], y=[2708])"
      ]
     },
     "execution_count": 8,
     "metadata": {},
     "output_type": "execute_result"
    }
   ],
   "source": [
    "mask = torch.randperm(len(index_dict))\n",
    "\n",
    "train_mask = mask[:140]\n",
    "val_mask = mask[140:640]\n",
    "test_mask = mask[1708:2708]\n",
    "\n",
    "device = torch.device('cuda:0' if torch.cuda.is_available() else 'cpu')\n",
    "\n",
    "cora = Data(x = features, edge_index = edge_index.t().contiguous(), y = labels).to(device)\n",
    "cora"
   ]
  },
  {
   "cell_type": "code",
   "execution_count": 9,
   "metadata": {
    "ExecuteTime": {
     "end_time": "2021-06-08T14:19:27.768426Z",
     "start_time": "2021-06-08T14:19:24.819055Z"
    },
    "scrolled": true
   },
   "outputs": [
    {
     "name": "stdout",
     "output_type": "stream",
     "text": [
      "epoch: 0 loss: 1.9512\n",
      "epoch: 1 loss: 1.7456\n",
      "epoch: 2 loss: 1.5565\n",
      "epoch: 3 loss: 1.3312\n",
      "epoch: 4 loss: 1.1655\n",
      "epoch: 5 loss: 0.9590\n",
      "epoch: 6 loss: 0.8127\n",
      "epoch: 7 loss: 0.7368\n",
      "epoch: 8 loss: 0.6223\n",
      "epoch: 9 loss: 0.6382\n",
      "Accuracy: 0.8180\n",
      "epoch: 10 loss: 0.6284\n",
      "epoch: 11 loss: 0.6100\n",
      "epoch: 12 loss: 0.6025\n",
      "epoch: 13 loss: 0.4921\n",
      "epoch: 14 loss: 0.5246\n",
      "epoch: 15 loss: 0.4803\n",
      "epoch: 16 loss: 0.4366\n",
      "epoch: 17 loss: 0.4541\n",
      "epoch: 18 loss: 0.3098\n",
      "epoch: 19 loss: 0.4858\n",
      "Accuracy: 0.7940\n",
      "epoch: 20 loss: 0.4466\n",
      "epoch: 21 loss: 0.4057\n",
      "epoch: 22 loss: 0.3808\n",
      "epoch: 23 loss: 0.3605\n",
      "epoch: 24 loss: 0.3552\n",
      "epoch: 25 loss: 0.3688\n",
      "epoch: 26 loss: 0.3875\n",
      "epoch: 27 loss: 0.3967\n",
      "epoch: 28 loss: 0.3414\n",
      "epoch: 29 loss: 0.3677\n",
      "Accuracy: 0.8200\n",
      "epoch: 30 loss: 0.3684\n",
      "epoch: 31 loss: 0.3354\n",
      "epoch: 32 loss: 0.4147\n",
      "epoch: 33 loss: 0.3593\n",
      "epoch: 34 loss: 0.3919\n",
      "epoch: 35 loss: 0.3077\n",
      "epoch: 36 loss: 0.2897\n",
      "epoch: 37 loss: 0.4104\n",
      "epoch: 38 loss: 0.3804\n",
      "epoch: 39 loss: 0.3192\n",
      "Accuracy: 0.8190\n",
      "epoch: 40 loss: 0.3755\n",
      "epoch: 41 loss: 0.3284\n",
      "epoch: 42 loss: 0.3794\n",
      "epoch: 43 loss: 0.3717\n",
      "epoch: 44 loss: 0.2749\n",
      "epoch: 45 loss: 0.3298\n",
      "epoch: 46 loss: 0.2678\n",
      "epoch: 47 loss: 0.3245\n",
      "epoch: 48 loss: 0.3595\n",
      "epoch: 49 loss: 0.3423\n",
      "Accuracy: 0.8210\n",
      "epoch: 50 loss: 0.4264\n",
      "epoch: 51 loss: 0.3187\n",
      "epoch: 52 loss: 0.2921\n",
      "epoch: 53 loss: 0.3572\n",
      "epoch: 54 loss: 0.2607\n",
      "epoch: 55 loss: 0.2762\n",
      "epoch: 56 loss: 0.2594\n",
      "epoch: 57 loss: 0.3207\n",
      "epoch: 58 loss: 0.2974\n",
      "epoch: 59 loss: 0.3850\n",
      "Accuracy: 0.8180\n",
      "epoch: 60 loss: 0.3298\n",
      "epoch: 61 loss: 0.3975\n",
      "epoch: 62 loss: 0.3211\n",
      "epoch: 63 loss: 0.3220\n",
      "epoch: 64 loss: 0.3272\n",
      "epoch: 65 loss: 0.3087\n",
      "epoch: 66 loss: 0.2137\n",
      "epoch: 67 loss: 0.3992\n",
      "epoch: 68 loss: 0.3859\n",
      "epoch: 69 loss: 0.3865\n",
      "Accuracy: 0.8260\n",
      "epoch: 70 loss: 0.3456\n",
      "epoch: 71 loss: 0.2962\n",
      "epoch: 72 loss: 0.2459\n",
      "epoch: 73 loss: 0.3224\n",
      "epoch: 74 loss: 0.2128\n",
      "epoch: 75 loss: 0.3408\n",
      "epoch: 76 loss: 0.3572\n",
      "epoch: 77 loss: 0.2415\n",
      "epoch: 78 loss: 0.3294\n",
      "epoch: 79 loss: 0.2610\n",
      "Accuracy: 0.8180\n",
      "epoch: 80 loss: 0.2553\n",
      "epoch: 81 loss: 0.3293\n",
      "epoch: 82 loss: 0.3173\n",
      "epoch: 83 loss: 0.3012\n",
      "epoch: 84 loss: 0.1935\n",
      "epoch: 85 loss: 0.2945\n",
      "epoch: 86 loss: 0.2960\n",
      "epoch: 87 loss: 0.3337\n",
      "epoch: 88 loss: 0.2792\n",
      "epoch: 89 loss: 0.2556\n",
      "Accuracy: 0.8180\n",
      "epoch: 90 loss: 0.2962\n",
      "epoch: 91 loss: 0.3295\n",
      "epoch: 92 loss: 0.2873\n",
      "epoch: 93 loss: 0.3368\n",
      "epoch: 94 loss: 0.3543\n",
      "epoch: 95 loss: 0.3216\n",
      "epoch: 96 loss: 0.2197\n",
      "epoch: 97 loss: 0.3874\n",
      "epoch: 98 loss: 0.3414\n",
      "epoch: 99 loss: 0.2949\n",
      "Accuracy: 0.8250\n",
      "epoch: 100 loss: 0.3417\n",
      "epoch: 101 loss: 0.2942\n",
      "epoch: 102 loss: 0.3418\n",
      "epoch: 103 loss: 0.3948\n",
      "epoch: 104 loss: 0.3143\n",
      "epoch: 105 loss: 0.3503\n",
      "epoch: 106 loss: 0.2738\n",
      "epoch: 107 loss: 0.3331\n",
      "epoch: 108 loss: 0.2828\n",
      "epoch: 109 loss: 0.3490\n",
      "Accuracy: 0.8240\n",
      "epoch: 110 loss: 0.2905\n",
      "epoch: 111 loss: 0.3377\n",
      "epoch: 112 loss: 0.2984\n",
      "epoch: 113 loss: 0.3251\n",
      "epoch: 114 loss: 0.2996\n",
      "epoch: 115 loss: 0.3432\n",
      "epoch: 116 loss: 0.3377\n",
      "epoch: 117 loss: 0.2651\n",
      "epoch: 118 loss: 0.2585\n",
      "epoch: 119 loss: 0.2125\n",
      "Accuracy: 0.8220\n",
      "epoch: 120 loss: 0.2441\n",
      "epoch: 121 loss: 0.2469\n",
      "epoch: 122 loss: 0.3244\n",
      "epoch: 123 loss: 0.3278\n",
      "epoch: 124 loss: 0.3760\n",
      "epoch: 125 loss: 0.3745\n",
      "epoch: 126 loss: 0.2700\n",
      "epoch: 127 loss: 0.3631\n",
      "epoch: 128 loss: 0.2665\n",
      "epoch: 129 loss: 0.3539\n",
      "Accuracy: 0.8220\n",
      "epoch: 130 loss: 0.3827\n",
      "epoch: 131 loss: 0.3068\n",
      "epoch: 132 loss: 0.2238\n",
      "epoch: 133 loss: 0.3928\n",
      "epoch: 134 loss: 0.2626\n",
      "epoch: 135 loss: 0.3262\n",
      "epoch: 136 loss: 0.3370\n",
      "epoch: 137 loss: 0.4023\n",
      "epoch: 138 loss: 0.2962\n",
      "epoch: 139 loss: 0.2684\n",
      "Accuracy: 0.8320\n",
      "epoch: 140 loss: 0.2553\n",
      "epoch: 141 loss: 0.3141\n",
      "epoch: 142 loss: 0.2223\n",
      "epoch: 143 loss: 0.2936\n",
      "epoch: 144 loss: 0.3322\n",
      "epoch: 145 loss: 0.2872\n",
      "epoch: 146 loss: 0.2840\n",
      "epoch: 147 loss: 0.3995\n",
      "epoch: 148 loss: 0.2335\n",
      "epoch: 149 loss: 0.2648\n",
      "Accuracy: 0.8250\n",
      "epoch: 150 loss: 0.3408\n",
      "epoch: 151 loss: 0.1703\n",
      "epoch: 152 loss: 0.3251\n",
      "epoch: 153 loss: 0.3049\n",
      "epoch: 154 loss: 0.3016\n",
      "epoch: 155 loss: 0.3097\n",
      "epoch: 156 loss: 0.2686\n",
      "epoch: 157 loss: 0.3018\n",
      "epoch: 158 loss: 0.2882\n",
      "epoch: 159 loss: 0.2931\n",
      "Accuracy: 0.8330\n",
      "epoch: 160 loss: 0.3745\n",
      "epoch: 161 loss: 0.2368\n",
      "epoch: 162 loss: 0.2531\n",
      "epoch: 163 loss: 0.2751\n",
      "epoch: 164 loss: 0.3368\n",
      "epoch: 165 loss: 0.3481\n",
      "epoch: 166 loss: 0.4319\n",
      "epoch: 167 loss: 0.3940\n",
      "epoch: 168 loss: 0.2982\n",
      "epoch: 169 loss: 0.2965\n",
      "Accuracy: 0.8190\n",
      "epoch: 170 loss: 0.3082\n",
      "epoch: 171 loss: 0.3666\n",
      "epoch: 172 loss: 0.2865\n",
      "epoch: 173 loss: 0.2750\n",
      "epoch: 174 loss: 0.2821\n",
      "epoch: 175 loss: 0.3328\n",
      "epoch: 176 loss: 0.2143\n",
      "epoch: 177 loss: 0.3400\n",
      "epoch: 178 loss: 0.3022\n",
      "epoch: 179 loss: 0.3397\n",
      "Accuracy: 0.8270\n",
      "epoch: 180 loss: 0.2816\n",
      "epoch: 181 loss: 0.3069\n",
      "epoch: 182 loss: 0.3713\n",
      "epoch: 183 loss: 0.3159\n",
      "epoch: 184 loss: 0.2842\n",
      "epoch: 185 loss: 0.3365\n",
      "epoch: 186 loss: 0.4007\n",
      "epoch: 187 loss: 0.3110\n",
      "epoch: 188 loss: 0.2716\n",
      "epoch: 189 loss: 0.2985\n",
      "Accuracy: 0.8200\n",
      "epoch: 190 loss: 0.4080\n",
      "epoch: 191 loss: 0.2836\n",
      "epoch: 192 loss: 0.3001\n",
      "epoch: 193 loss: 0.2390\n",
      "epoch: 194 loss: 0.2209\n",
      "epoch: 195 loss: 0.2316\n",
      "epoch: 196 loss: 0.2993\n",
      "epoch: 197 loss: 0.2481\n",
      "epoch: 198 loss: 0.2348\n",
      "epoch: 199 loss: 0.2657\n",
      "Accuracy: 0.8300\n"
     ]
    }
   ],
   "source": [
    "model = GATNet(features.shape[1], len(label_to_index)).to(device)\n",
    "\n",
    "optimizer = torch.optim.Adam(model.parameters(), lr=0.01, weight_decay=5e-4)\n",
    "\n",
    "for epoch in range(200):\n",
    "    optimizer.zero_grad()\n",
    "    out = model(cora)\n",
    "    loss = F.nll_loss(out[train_mask], cora.y[train_mask])\n",
    "    print('epoch: %d loss: %.4f' %(epoch, loss))\n",
    "    loss.backward()\n",
    "    optimizer.step()\n",
    "    \n",
    "    if((epoch + 1)% 10 == 0):\n",
    "        model.eval()\n",
    "        _, pred = model(cora).max(dim=1)\n",
    "        correct = int(pred[test_mask].eq(cora.y[test_mask]).sum().item())\n",
    "        acc = correct / len(test_mask)\n",
    "        print('Accuracy: {:.4f}'.format(acc))\n",
    "        model.train()"
   ]
  },
  {
   "cell_type": "markdown",
   "metadata": {},
   "source": [
    "### 测试"
   ]
  },
  {
   "cell_type": "code",
   "execution_count": 10,
   "metadata": {
    "ExecuteTime": {
     "end_time": "2021-06-08T14:19:27.778624Z",
     "start_time": "2021-06-08T14:19:27.770622Z"
    }
   },
   "outputs": [
    {
     "name": "stdout",
     "output_type": "stream",
     "text": [
      "Accuracy: 0.8300\n"
     ]
    }
   ],
   "source": [
    "model.eval()\n",
    "out = model(cora)\n",
    "_, pred = out.max(dim=1)\n",
    "correct = int(pred[test_mask].eq(cora.y[test_mask]).sum().item())\n",
    "acc = correct / len(test_mask)\n",
    "print('Accuracy: {:.4f}'.format(acc))"
   ]
  },
  {
   "cell_type": "markdown",
   "metadata": {},
   "source": [
    "### t-SNE做图"
   ]
  },
  {
   "cell_type": "code",
   "execution_count": 31,
   "metadata": {
    "ExecuteTime": {
     "end_time": "2021-06-08T14:25:17.498305Z",
     "start_time": "2021-06-08T14:25:14.424019Z"
    }
   },
   "outputs": [
    {
     "data": {
      "image/png": "[encoded data removed]",
      "text/plain": [
       "<Figure size 576x432 with 1 Axes>"
      ]
     },
     "metadata": {
      "needs_background": "light"
     },
     "output_type": "display_data"
    }
   ],
   "source": [
    "from sklearn.manifold import TSNE\n",
    "import numpy as np\n",
    "import matplotlib.pyplot as plt\n",
    "\n",
    "ts = TSNE(n_components=2)\n",
    "ts.fit_transform(out[test_mask].to('cpu').detach().numpy())\n",
    "\n",
    "x = ts.embedding_\n",
    "y = cora.y[test_mask].to('cpu').detach().numpy()\n",
    "\n",
    "xi = []\n",
    "for i in range(7):\n",
    "    xi.append(x[np.where(y==i)])\n",
    "\n",
    "colors = ['mediumblue','green','red','yellow','cyan','mediumvioletred','mediumspringgreen']\n",
    "plt.figure(figsize=(8, 6))\n",
    "for i in range(7):\n",
    "    plt.scatter(xi[i][:,0],xi[i][:,1],s=30,color=colors[i],marker='o',alpha=0.8,edgecolors='black')"
   ]
  }
 ],
 "metadata": {
  "kernelspec": {
   "display_name": "song",
   "language": "python",
   "name": "song"
  },
  "language_info": {
   "codemirror_mode": {
    "name": "ipython",
    "version": 3
   },
   "file_extension": ".py",
   "mimetype": "text/x-python",
   "name": "python",
   "nbconvert_exporter": "python",
   "pygments_lexer": "ipython3",
   "version": "3.6.13"
  },
  "latex_envs": {
   "LaTeX_envs_menu_present": true,
   "autoclose": false,
   "autocomplete": true,
   "bibliofile": "biblio.bib",
   "cite_by": "apalike",
   "current_citInitial": 1,
   "eqLabelWithNumbers": true,
   "eqNumInitial": 1,
   "hotkeys": {
    "equation": "Ctrl-E",
    "itemize": "Ctrl-I"
   },
   "labels_anchors": false,
   "latex_user_defs": false,
   "report_style_numbering": false,
   "user_envs_cfg": false
  },
  "varInspector": {
   "cols": {
    "lenName": 16,
    "lenType": 16,
    "lenVar": 40
   },
   "kernels_config": {
    "python": {
     "delete_cmd_postfix": "",
     "delete_cmd_prefix": "del ",
     "library": "var_list.py",
     "varRefreshCmd": "print(var_dic_list())"
    },
    "r": {
     "delete_cmd_postfix": ") ",
     "delete_cmd_prefix": "rm(",
     "library": "var_list.r",
     "varRefreshCmd": "cat(var_dic_list()) "
    }
   },
   "types_to_exclude": [
    "module",
    "function",
    "builtin_function_or_method",
    "instance",
    "_Feature"
   ],
   "window_display": false
  }
 },
 "nbformat": 4,
 "nbformat_minor": 2
}
